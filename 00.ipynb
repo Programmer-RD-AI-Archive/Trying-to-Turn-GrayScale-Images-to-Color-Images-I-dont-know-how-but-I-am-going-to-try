{
 "cells": [
  {
   "cell_type": "code",
   "execution_count": null,
   "id": "69936d65-54cb-4edb-93d7-285c322d28a9",
   "metadata": {},
   "outputs": [],
   "source": [
    "import random\n",
    "import seaborn as sns\n",
    "import pandas as pd\n",
    "import numpy as np\n",
    "import matplotlib.pyplot as plt\n",
    "import sklearn\n",
    "import torch,torchvision\n",
    "from torch.nn import *\n",
    "from sklearn.model_selection import *\n",
    "from tqdm import tqdm\n",
    "import cv2,os\n",
    "from torch.optim import *\n",
    "import pickle\n",
    "import wandb\n",
    "\n",
    "PROJECT_NAME = 'Trying-to-Turn-GrayScale-Images-to-Color-Images-I-dont-know-how-but-I-am-going-to-try'\n",
    "device = 'cuda:0'\n",
    "np.random.seed(21)\n",
    "random.seed(21)\n",
    "torch.manual_seed(21)"
   ]
  },
  {
   "cell_type": "code",
   "execution_count": null,
   "id": "5e9e98c1-75e9-4a01-8c04-26556d73c291",
   "metadata": {},
   "outputs": [],
   "source": [
    "def load_data():\n",
    "    data = []\n",
    "    for file in tqdm(os.listdir('./data/')):\n",
    "        X_one = cv2.imread(f'./data/{file}',cv2.IMREAD_GRAYSCALE)\n",
    "        X_one = cv2.resize(X_one,(112,112))\n",
    "        y_one = cv2.imread(f'./data/{file}')\n",
    "        y_one = cv2.resize(y_one,(112,112))\n",
    "        data.append([X_one,y_one])\n",
    "    return data"
   ]
  },
  {
   "cell_type": "code",
   "execution_count": null,
   "id": "146c1460-3a54-45fa-900b-f460ed6cccff",
   "metadata": {},
   "outputs": [],
   "source": [
    "data = load_data()"
   ]
  },
  {
   "cell_type": "code",
   "execution_count": null,
   "id": "b8a6c9ea-f540-438d-b6bc-2b31c72c4d86",
   "metadata": {},
   "outputs": [],
   "source": [
    "np.random.shuffle(data)"
   ]
  },
  {
   "cell_type": "code",
   "execution_count": null,
   "id": "c9e21651-28b9-49d3-a26d-a227b9b82fa7",
   "metadata": {},
   "outputs": [],
   "source": [
    "X = []\n",
    "y = []"
   ]
  },
  {
   "cell_type": "code",
   "execution_count": null,
   "id": "389497e6-9de5-43ec-8f19-196382e9aa51",
   "metadata": {},
   "outputs": [],
   "source": [
    "for d in data:\n",
    "    X.append(d[0])\n",
    "    y.append(d[1])"
   ]
  },
  {
   "cell_type": "code",
   "execution_count": null,
   "id": "dbf587ec-72e7-4867-a465-f17cd4ed651e",
   "metadata": {},
   "outputs": [],
   "source": [
    "X = torch.from_numpy(np.array(X)).view(-1,1*112*112).to(device).float()\n",
    "y = torch.from_numpy(np.array(y)).view(-1,3*112*112).to(device).float()"
   ]
  },
  {
   "cell_type": "code",
   "execution_count": null,
   "id": "e84b7310-2bea-4a84-9e84-d5fe0c7244dc",
   "metadata": {},
   "outputs": [],
   "source": [
    "def predict(model):\n",
    "    model.eval()\n",
    "    for file in os.listdir('./test_data/'):\n",
    "        X_one = cv2.imread(f'./data/{file}',cv2.IMREAD_GRAYSCALE)\n",
    "        X_one = cv2.resize(X_one,(112,112))\n",
    "        preds = model(torch.from_numpy(np.array(X_one)).to(device).float())\n",
    "        preds = preds.view(-1,3*112*112)\n",
    "        plt.figure(figsize=(12,6))\n",
    "        plt.imshow(preds.view(112,112,3).cpu().detach().numpy()/255.0)\n",
    "        plt.savefig(f'./preds/{file}')\n",
    "        plt.close()\n",
    "    model.train()"
   ]
  },
  {
   "cell_type": "code",
   "execution_count": null,
   "id": "9bf82047-bc69-479b-8e57-ccb43a282136",
   "metadata": {},
   "outputs": [],
   "source": [
    "class Model_1(Module):\n",
    "    def __init__(self):\n",
    "        super().__init__()\n",
    "        self.activation = ReLU()\n",
    "        self.max_pool2d = MaxPool2d((2,2),(2,2))\n",
    "        self.conv1 = Conv2d(1,7,(5,5))\n",
    "        self.conv1bn = BatchNorm2d(7)\n",
    "        self.conv2 = Conv2d(7,14,(5,5))\n",
    "        self.conv2bn = BatchNorm2d(14)\n",
    "        self.conv3 = Conv2d(14,21,(5,5))\n",
    "        self.conv3bn = BatchNorm2d(21)\n",
    "        self.linear1 = Linear(21*3*3,512)\n",
    "        self.linear1bn = BatchNorm1d(512)\n",
    "        self.linear2 = Linear(512,512)\n",
    "        self.linear2bn = BatchNorm1d(512)\n",
    "        self.linear3 = Linear(512,512)\n",
    "        self.linear3bn = BatchNorm1d(512)\n",
    "        self.output = Linear(512,3*112*112)\n",
    "    \n",
    "    def forward(self,X):\n",
    "        X = X.view(-1,1,112,112)\n",
    "        preds = self.max_pool2d(self.activation(self.conv1bn(self.conv1(X))))\n",
    "        preds = self.max_pool2d(self.activation(self.conv2bn(self.conv2(preds))))\n",
    "        preds = self.max_pool2d(self.activation(self.conv3bn(self.conv3(preds))))\n",
    "        print(preds.shape)\n",
    "        preds = preds.view(-1,21*3*3)\n",
    "        preds = self.activation(self.linear1bn(self.linear1(preds)))\n",
    "        preds = self.activation(self.linear2bn(self.linear2(preds)))\n",
    "        preds = self.activation(self.linear3bn(self.linear3(preds)))\n",
    "        preds = self.output(preds)\n",
    "        return preds"
   ]
  },
  {
   "cell_type": "code",
   "execution_count": null,
   "id": "6e473bf7-42ed-4a46-8556-cd4d880f1c23",
   "metadata": {},
   "outputs": [],
   "source": [
    "class Model_2(Module):\n",
    "    def __init__(self):\n",
    "        super().__init__()\n",
    "        self.activation = ReLU()\n",
    "        self.linear1 = Linear(1*112*112,256)\n",
    "        self.linear1bn = BatchNorm1d(256)\n",
    "        self.linear2 = Linear(256,512)\n",
    "        self.linear2bn = BatchNorm1d(512)\n",
    "        self.linear3 = Linear(512,1024)\n",
    "        self.linear3bn = BatchNorm1d(1024)\n",
    "        self.linear4 = Linear(1024,1024)\n",
    "        self.linear4bn = BatchNorm1d(1024)\n",
    "        self.output = Linear(1024,3*112*112)\n",
    "    \n",
    "    def forward(self,X):\n",
    "        preds = self.activation(self.linear1bn(self.linear1(X)))\n",
    "        preds = self.activation(self.linear2bn(self.linear2(preds)))\n",
    "        preds = self.activation(self.linear3bn(self.linear3(preds)))\n",
    "        preds = self.activation(self.linear4bn(self.linear4(preds)))\n",
    "        preds = self.output(preds)\n",
    "        return preds"
   ]
  },
  {
   "cell_type": "code",
   "execution_count": null,
   "id": "975a62d8-5ce7-428e-821d-2246a9978f5d",
   "metadata": {},
   "outputs": [],
   "source": [
    "model = Model_1().to(device)"
   ]
  },
  {
   "cell_type": "code",
   "execution_count": null,
   "id": "cc4675cc-6ec8-434d-bb14-0e2fcf23a0c5",
   "metadata": {},
   "outputs": [],
   "source": [
    "criterion = MSELoss()"
   ]
  },
  {
   "cell_type": "code",
   "execution_count": null,
   "id": "64167b0a-9835-4ed8-a064-014cee76ae50",
   "metadata": {},
   "outputs": [],
   "source": [
    "optimizer = Adam(model.parameters(),lr=0.001)"
   ]
  },
  {
   "cell_type": "code",
   "execution_count": null,
   "id": "a1efc08b-a080-4001-a4b4-b89a8a38a913",
   "metadata": {},
   "outputs": [],
   "source": [
    "epochs = 100"
   ]
  },
  {
   "cell_type": "code",
   "execution_count": null,
   "id": "3c0d0f3e-ac50-44d4-a71d-96842e0d7625",
   "metadata": {},
   "outputs": [],
   "source": [
    "batch_size = 32"
   ]
  },
  {
   "cell_type": "code",
   "execution_count": null,
   "id": "ae74ae23-b8af-4c49-a867-bea9be24dd42",
   "metadata": {},
   "outputs": [],
   "source": [
    "wandb.init(project=PROJECT_NAME,name='Model_1-no-backward')\n",
    "for _ in tqdm(range(epochs)):\n",
    "    for idx in range(0,len(X),batch_size):\n",
    "        X_batch = X[idx:idx+batch_size].to(device).float().view(-1,1*112*112)\n",
    "        y_batch = y[idx:idx+batch_size].to(device).float().view(-1,3*112*112)\n",
    "        preds = model(X_batch)\n",
    "        loss = criterion(preds,y_batch)\n",
    "        optimizer.zero_grad()\n",
    "        loss.backward()\n",
    "        optimizer.step()\n",
    "    wandb.log({'Loss':loss.item()})\n",
    "    predict(model)\n",
    "    for file in os.listdir('./preds/'):\n",
    "        wandb.log({f'Pred Img/{file}':wandb.Image(cv2.imread(f'./preds/{file}')/255.0)})\n",
    "        wandb.log({f'Real Img/{file}':wandb.Image(cv2.imread(f'./test_data/{file}',cv2.IMREAD_GRAYSCALE)/255.0)})\n",
    "wandb.finish()"
   ]
  },
  {
   "cell_type": "code",
   "execution_count": null,
   "id": "23c323ed-9eaa-4d87-af99-056aba66fb65",
   "metadata": {},
   "outputs": [],
   "source": []
  }
 ],
 "metadata": {
  "kernelspec": {
   "display_name": "Python 3.7.3 64-bit ('base': conda)",
   "language": "python",
   "name": "python373jvsc74a57bd0210f9608a45c0278a93c9e0b10db32a427986ab48cfc0d20c139811eb78c4bbc"
  },
  "language_info": {
   "codemirror_mode": {
    "name": "ipython",
    "version": 3
   },
   "file_extension": ".py",
   "mimetype": "text/x-python",
   "name": "python",
   "nbconvert_exporter": "python",
   "pygments_lexer": "ipython3",
   "version": "3.7.11"
  }
 },
 "nbformat": 4,
 "nbformat_minor": 5
}
